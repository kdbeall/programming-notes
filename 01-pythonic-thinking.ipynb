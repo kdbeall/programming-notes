{
 "cells": [
  {
   "cell_type": "markdown",
   "metadata": {},
   "source": [
    "## What's different between bytes, str, and unicode?\n",
    "- two types that represent sequences of characters bytes, and str\n",
    "- bytes contains raw 8-bit values\n",
    "- str contains Unicode characters"
   ]
  },
  {
   "cell_type": "markdown",
   "metadata": {},
   "source": [
    "### Big-endian and Little-endian byteorders"
   ]
  },
  {
   "cell_type": "code",
   "execution_count": 1,
   "metadata": {},
   "outputs": [
    {
     "name": "stdout",
     "output_type": "stream",
     "text": [
      "b'\\x00d'\n",
      "b'd\\x00'\n"
     ]
    }
   ],
   "source": [
    "big_endian_hundred = (100).to_bytes(2, byteorder='big')\n",
    "little_endian_hundred = (100).to_bytes(2, byteorder='little')\n",
    "print(big_endian_hundred)\n",
    "print(little_endian_hundred)"
   ]
  },
  {
   "cell_type": "code",
   "execution_count": 7,
   "metadata": {},
   "outputs": [
    {
     "name": "stdout",
     "output_type": "stream",
     "text": [
      "0b10111111\n"
     ]
    }
   ],
   "source": [
    "a = 0b10111011\n",
    "bitmask = 0b100\n",
    "print(bin(a | bitmask))"
   ]
  },
  {
   "cell_type": "code",
   "execution_count": null,
   "metadata": {},
   "outputs": [],
   "source": []
  }
 ],
 "metadata": {
  "kernelspec": {
   "display_name": "Python 3",
   "language": "python",
   "name": "python3"
  },
  "language_info": {
   "codemirror_mode": {
    "name": "ipython",
    "version": 3
   },
   "file_extension": ".py",
   "mimetype": "text/x-python",
   "name": "python",
   "nbconvert_exporter": "python",
   "pygments_lexer": "ipython3",
   "version": "3.6.5"
  }
 },
 "nbformat": 4,
 "nbformat_minor": 2
}
